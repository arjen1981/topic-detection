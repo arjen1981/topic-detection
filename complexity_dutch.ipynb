{
  "cells": [
    {
      "metadata": {
        "trusted": true,
        "scrolled": false
      },
      "cell_type": "code",
      "source": "!pip install spacy\n!pip install spacy-readability\n!python -m spacy download nl_core_news_sm",
      "execution_count": 6,
      "outputs": [
        {
          "output_type": "stream",
          "text": "Requirement already satisfied: spacy in /home/nbuser/anaconda3_420/lib/python3.5/site-packages (2.2.4)\nRequirement already satisfied: murmurhash<1.1.0,>=0.28.0 in /home/nbuser/anaconda3_420/lib/python3.5/site-packages (from spacy) (1.0.2)\nRequirement already satisfied: cymem<2.1.0,>=2.0.2 in /home/nbuser/anaconda3_420/lib/python3.5/site-packages (from spacy) (2.0.3)\nRequirement already satisfied: numpy>=1.15.0 in /home/nbuser/anaconda3_420/lib/python3.5/site-packages (from spacy) (1.17.3)\nRequirement already satisfied: requests<3.0.0,>=2.13.0 in /home/nbuser/anaconda3_420/lib/python3.5/site-packages (from spacy) (2.14.2)\nRequirement already satisfied: preshed<3.1.0,>=3.0.2 in /home/nbuser/anaconda3_420/lib/python3.5/site-packages (from spacy) (3.0.2)\nRequirement already satisfied: blis<0.5.0,>=0.4.0 in /home/nbuser/anaconda3_420/lib/python3.5/site-packages (from spacy) (0.4.1)\nRequirement already satisfied: srsly<1.1.0,>=1.0.2 in /home/nbuser/anaconda3_420/lib/python3.5/site-packages (from spacy) (1.0.2)\nRequirement already satisfied: wasabi<1.1.0,>=0.4.0 in /home/nbuser/anaconda3_420/lib/python3.5/site-packages (from spacy) (0.6.0)\nRequirement already satisfied: thinc==7.4.0 in /home/nbuser/anaconda3_420/lib/python3.5/site-packages (from spacy) (7.4.0)\nRequirement already satisfied: setuptools in /home/nbuser/anaconda3_420/lib/python3.5/site-packages (from spacy) (41.6.0)\nRequirement already satisfied: plac<1.2.0,>=0.9.6 in /home/nbuser/anaconda3_420/lib/python3.5/site-packages (from spacy) (1.1.3)\nRequirement already satisfied: catalogue<1.1.0,>=0.0.7 in /home/nbuser/anaconda3_420/lib/python3.5/site-packages (from spacy) (1.0.0)\nRequirement already satisfied: tqdm<5.0.0,>=4.38.0 in /home/nbuser/anaconda3_420/lib/python3.5/site-packages (from spacy) (4.45.0)\nRequirement already satisfied: importlib-metadata>=0.20; python_version < \"3.8\" in /home/nbuser/anaconda3_420/lib/python3.5/site-packages (from catalogue<1.1.0,>=0.0.7->spacy) (1.6.0)\nRequirement already satisfied: zipp>=0.5 in /home/nbuser/anaconda3_420/lib/python3.5/site-packages (from importlib-metadata>=0.20; python_version < \"3.8\"->catalogue<1.1.0,>=0.0.7->spacy) (1.2.0)\n\u001b[33mWARNING: You are using pip version 19.3.1; however, version 20.0.2 is available.\nYou should consider upgrading via the 'pip install --upgrade pip' command.\u001b[0m\nRequirement already satisfied: spacy-readability in /home/nbuser/anaconda3_420/lib/python3.5/site-packages (1.3.0)\nRequirement already satisfied: spacy<3.0.0,>=2.0.0 in /home/nbuser/anaconda3_420/lib/python3.5/site-packages (from spacy-readability) (2.2.4)\nRequirement already satisfied: numpy>=1.15.0 in /home/nbuser/anaconda3_420/lib/python3.5/site-packages (from spacy<3.0.0,>=2.0.0->spacy-readability) (1.17.3)\nRequirement already satisfied: plac<1.2.0,>=0.9.6 in /home/nbuser/anaconda3_420/lib/python3.5/site-packages (from spacy<3.0.0,>=2.0.0->spacy-readability) (1.1.3)\nRequirement already satisfied: setuptools in /home/nbuser/anaconda3_420/lib/python3.5/site-packages (from spacy<3.0.0,>=2.0.0->spacy-readability) (41.6.0)\nRequirement already satisfied: murmurhash<1.1.0,>=0.28.0 in /home/nbuser/anaconda3_420/lib/python3.5/site-packages (from spacy<3.0.0,>=2.0.0->spacy-readability) (1.0.2)\nRequirement already satisfied: wasabi<1.1.0,>=0.4.0 in /home/nbuser/anaconda3_420/lib/python3.5/site-packages (from spacy<3.0.0,>=2.0.0->spacy-readability) (0.6.0)\nRequirement already satisfied: preshed<3.1.0,>=3.0.2 in /home/nbuser/anaconda3_420/lib/python3.5/site-packages (from spacy<3.0.0,>=2.0.0->spacy-readability) (3.0.2)\nRequirement already satisfied: srsly<1.1.0,>=1.0.2 in /home/nbuser/anaconda3_420/lib/python3.5/site-packages (from spacy<3.0.0,>=2.0.0->spacy-readability) (1.0.2)\nRequirement already satisfied: tqdm<5.0.0,>=4.38.0 in /home/nbuser/anaconda3_420/lib/python3.5/site-packages (from spacy<3.0.0,>=2.0.0->spacy-readability) (4.45.0)\nRequirement already satisfied: blis<0.5.0,>=0.4.0 in /home/nbuser/anaconda3_420/lib/python3.5/site-packages (from spacy<3.0.0,>=2.0.0->spacy-readability) (0.4.1)\nRequirement already satisfied: requests<3.0.0,>=2.13.0 in /home/nbuser/anaconda3_420/lib/python3.5/site-packages (from spacy<3.0.0,>=2.0.0->spacy-readability) (2.14.2)\nRequirement already satisfied: thinc==7.4.0 in /home/nbuser/anaconda3_420/lib/python3.5/site-packages (from spacy<3.0.0,>=2.0.0->spacy-readability) (7.4.0)\nRequirement already satisfied: catalogue<1.1.0,>=0.0.7 in /home/nbuser/anaconda3_420/lib/python3.5/site-packages (from spacy<3.0.0,>=2.0.0->spacy-readability) (1.0.0)\nRequirement already satisfied: cymem<2.1.0,>=2.0.2 in /home/nbuser/anaconda3_420/lib/python3.5/site-packages (from spacy<3.0.0,>=2.0.0->spacy-readability) (2.0.3)\nRequirement already satisfied: importlib-metadata>=0.20; python_version < \"3.8\" in /home/nbuser/anaconda3_420/lib/python3.5/site-packages (from catalogue<1.1.0,>=0.0.7->spacy<3.0.0,>=2.0.0->spacy-readability) (1.6.0)\nRequirement already satisfied: zipp>=0.5 in /home/nbuser/anaconda3_420/lib/python3.5/site-packages (from importlib-metadata>=0.20; python_version < \"3.8\"->catalogue<1.1.0,>=0.0.7->spacy<3.0.0,>=2.0.0->spacy-readability) (1.2.0)\n\u001b[33mWARNING: You are using pip version 19.3.1; however, version 20.0.2 is available.\nYou should consider upgrading via the 'pip install --upgrade pip' command.\u001b[0m\nRequirement already satisfied: nl_core_news_sm==2.2.5 from https://github.com/explosion/spacy-models/releases/download/nl_core_news_sm-2.2.5/nl_core_news_sm-2.2.5.tar.gz#egg=nl_core_news_sm==2.2.5 in /home/nbuser/anaconda3_420/lib/python3.5/site-packages (2.2.5)\nRequirement already satisfied: spacy>=2.2.2 in /home/nbuser/anaconda3_420/lib/python3.5/site-packages (from nl_core_news_sm==2.2.5) (2.2.4)\nRequirement already satisfied: blis<0.5.0,>=0.4.0 in /home/nbuser/anaconda3_420/lib/python3.5/site-packages (from spacy>=2.2.2->nl_core_news_sm==2.2.5) (0.4.1)\nRequirement already satisfied: thinc==7.4.0 in /home/nbuser/anaconda3_420/lib/python3.5/site-packages (from spacy>=2.2.2->nl_core_news_sm==2.2.5) (7.4.0)\nRequirement already satisfied: wasabi<1.1.0,>=0.4.0 in /home/nbuser/anaconda3_420/lib/python3.5/site-packages (from spacy>=2.2.2->nl_core_news_sm==2.2.5) (0.6.0)\nRequirement already satisfied: preshed<3.1.0,>=3.0.2 in /home/nbuser/anaconda3_420/lib/python3.5/site-packages (from spacy>=2.2.2->nl_core_news_sm==2.2.5) (3.0.2)\nRequirement already satisfied: catalogue<1.1.0,>=0.0.7 in /home/nbuser/anaconda3_420/lib/python3.5/site-packages (from spacy>=2.2.2->nl_core_news_sm==2.2.5) (1.0.0)\nRequirement already satisfied: numpy>=1.15.0 in /home/nbuser/anaconda3_420/lib/python3.5/site-packages (from spacy>=2.2.2->nl_core_news_sm==2.2.5) (1.17.3)\nRequirement already satisfied: srsly<1.1.0,>=1.0.2 in /home/nbuser/anaconda3_420/lib/python3.5/site-packages (from spacy>=2.2.2->nl_core_news_sm==2.2.5) (1.0.2)\nRequirement already satisfied: requests<3.0.0,>=2.13.0 in /home/nbuser/anaconda3_420/lib/python3.5/site-packages (from spacy>=2.2.2->nl_core_news_sm==2.2.5) (2.14.2)\nRequirement already satisfied: tqdm<5.0.0,>=4.38.0 in /home/nbuser/anaconda3_420/lib/python3.5/site-packages (from spacy>=2.2.2->nl_core_news_sm==2.2.5) (4.45.0)\nRequirement already satisfied: murmurhash<1.1.0,>=0.28.0 in /home/nbuser/anaconda3_420/lib/python3.5/site-packages (from spacy>=2.2.2->nl_core_news_sm==2.2.5) (1.0.2)\nRequirement already satisfied: plac<1.2.0,>=0.9.6 in /home/nbuser/anaconda3_420/lib/python3.5/site-packages (from spacy>=2.2.2->nl_core_news_sm==2.2.5) (1.1.3)\nRequirement already satisfied: setuptools in /home/nbuser/anaconda3_420/lib/python3.5/site-packages (from spacy>=2.2.2->nl_core_news_sm==2.2.5) (41.6.0)\nRequirement already satisfied: cymem<2.1.0,>=2.0.2 in /home/nbuser/anaconda3_420/lib/python3.5/site-packages (from spacy>=2.2.2->nl_core_news_sm==2.2.5) (2.0.3)\nRequirement already satisfied: importlib-metadata>=0.20; python_version < \"3.8\" in /home/nbuser/anaconda3_420/lib/python3.5/site-packages (from catalogue<1.1.0,>=0.0.7->spacy>=2.2.2->nl_core_news_sm==2.2.5) (1.6.0)\nRequirement already satisfied: zipp>=0.5 in /home/nbuser/anaconda3_420/lib/python3.5/site-packages (from importlib-metadata>=0.20; python_version < \"3.8\"->catalogue<1.1.0,>=0.0.7->spacy>=2.2.2->nl_core_news_sm==2.2.5) (1.2.0)\n",
          "name": "stdout"
        },
        {
          "output_type": "stream",
          "text": "\u001b[33mWARNING: You are using pip version 19.3.1; however, version 20.0.2 is available.\nYou should consider upgrading via the 'pip install --upgrade pip' command.\u001b[0m\n\u001b[38;5;2m✔ Download and installation successful\u001b[0m\nYou can now load the model via spacy.load('nl_core_news_sm')\n",
          "name": "stdout"
        }
      ]
    },
    {
      "metadata": {
        "trusted": true
      },
      "cell_type": "code",
      "source": "import pandas as pd\nimport numpy as np\nimport spacy\nfrom spacy_readability import Readability\nimport nl_core_news_sm",
      "execution_count": 7,
      "outputs": []
    },
    {
      "metadata": {
        "trusted": true
      },
      "cell_type": "code",
      "source": "data = pd.read_csv('emerce_articles_small.csv')\n#data = pd.read_csv('emerce_articles.csv')\ndata.articles.count()",
      "execution_count": 8,
      "outputs": [
        {
          "output_type": "execute_result",
          "execution_count": 8,
          "data": {
            "text/plain": "794"
          },
          "metadata": {}
        }
      ]
    },
    {
      "metadata": {
        "trusted": true
      },
      "cell_type": "code",
      "source": "data = data.dropna().reset_index(drop=True)\ndata.articles = [w.replace('[[\\'', '').replace('[\\'', '').replace('\\'],', '').replace('\\']]','') for w in data.articles]\ndata.articles = data.articles.replace('', np.nan)\ndata = data.dropna().reset_index(drop=True)\ndata.articles.head()",
      "execution_count": 9,
      "outputs": [
        {
          "output_type": "execute_result",
          "execution_count": 9,
          "data": {
            "text/plain": "0    De verwerker van online en mobiele betalingen ...\n1    De volledige Travix-organisatie (Vliegwinkel.n...\n2    Software AG voegt voorspellende Big Data analy...\n3    De Nederlandse broedmachine voor startende bed...\n4    De juristen van Google krijgen een paar weken ...\nName: articles, dtype: object"
          },
          "metadata": {}
        }
      ]
    },
    {
      "metadata": {
        "trusted": true
      },
      "cell_type": "code",
      "source": "nlp = spacy.load('nl_core_news_sm')",
      "execution_count": 11,
      "outputs": []
    },
    {
      "metadata": {
        "trusted": true
      },
      "cell_type": "code",
      "source": "read = Readability()\nnlp.add_pipe(read, last=True)",
      "execution_count": 13,
      "outputs": []
    },
    {
      "metadata": {
        "trusted": true
      },
      "cell_type": "code",
      "source": "doc = nlp(data.articles.loc[0])\n\nprint(doc._.flesch_kincaid_grade_level)\nprint(doc._.flesch_kincaid_reading_ease)\nprint(doc._.dale_chall)\nprint(doc._.smog)\nprint(doc._.coleman_liau_index)\nprint(doc._.automated_readability_index)",
      "execution_count": 15,
      "outputs": [
        {
          "output_type": "stream",
          "text": "11.980726817042605\n38.173421052631596\n19.264710025062655\n0\n14.619298245614033\n12.535225563909776\n",
          "name": "stdout"
        }
      ]
    },
    {
      "metadata": {
        "trusted": true
      },
      "cell_type": "code",
      "source": "",
      "execution_count": null,
      "outputs": []
    }
  ],
  "metadata": {
    "language_info": {
      "mimetype": "text/x-python",
      "nbconvert_exporter": "python",
      "name": "python",
      "pygments_lexer": "ipython3",
      "version": "3.5.4",
      "file_extension": ".py",
      "codemirror_mode": {
        "version": 3,
        "name": "ipython"
      }
    },
    "file_extension": ".py",
    "mimetype": "text/x-python",
    "name": "python",
    "npconvert_exporter": "python",
    "pygments_lexer": "ipython3",
    "version": 3,
    "kernelspec": {
      "name": "python3",
      "display_name": "Python 3",
      "language": "python"
    }
  },
  "nbformat": 4,
  "nbformat_minor": 1
}